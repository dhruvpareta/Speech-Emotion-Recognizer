{
 "cells": [
  {
   "cell_type": "code",
   "execution_count": 47,
   "metadata": {},
   "outputs": [],
   "source": [
    "import librosa as lb\n",
    "import soundfile as sf\n",
    "import numpy as np\n",
    "import glob, os, pickle\n",
    "\n",
    "from sklearn.model_selection import train_test_split\n",
    "from sklearn.neural_network import MLPClassifier\n",
    "from sklearn.metrics import accuracy_score"
   ]
  },
  {
   "cell_type": "code",
   "execution_count": 48,
   "metadata": {},
   "outputs": [],
   "source": [
    "emotion_labels = {\n",
    "    '01':'neutral',\n",
    "    '02':'calm',\n",
    "    '03':'happy',\n",
    "    '04':'sad',\n",
    "    '05':'angry',\n",
    "    '06':'fearful',\n",
    "    '07':'disgust',\n",
    "    '08':'surprised'\n",
    "}"
   ]
  },
  {
   "cell_type": "code",
   "execution_count": 49,
   "metadata": {},
   "outputs": [],
   "source": [
    "focused_emotion_labels = ['happy','sad','angry']"
   ]
  },
  {
   "cell_type": "code",
   "execution_count": 50,
   "metadata": {},
   "outputs": [],
   "source": [
    "def audio_features(file_title, mfcc, chroma, mel):\n",
    "    with sf.SoundFile(file_title) as audio_recording:\n",
    "        audio = audio_recording.read(dtype=\"float32\")\n",
    "        sample_rate = audio_recording.samplerate\n",
    "        \n",
    "        if chroma :\n",
    "            stft = np.abs(lb.stft(audio))\n",
    "            result = np.array([])\n",
    "            \n",
    "        if mfcc:\n",
    "            mfcc = np.mean(lb.feature.mfcc(y= audio , sr = sample_rate, n_mfcc = 40).T, axis = 0)\n",
    "            result = np.hstack((result, mfcc))\n",
    "        if chroma:\n",
    "            chroma=np.mean(lb.feature.chroma_stft(S=stft, sr=sample_rate).T,axis=0)\n",
    "            result = np.hstack((result, chroma))\n",
    "            \n",
    "        if mel:\n",
    "            mel = np.mean(lb.feature.melspectrogram(audio, sr = sample_rate).T, axis=0)\n",
    "            result = np.hstack((result, mel))\n",
    "            \n",
    "        return result\n",
    "                "
   ]
  },
  {
   "cell_type": "code",
   "execution_count": 58,
   "metadata": {},
   "outputs": [],
   "source": [
    "def loading_audio_data():\n",
    "    x = []\n",
    "    y = []\n",
    "    \n",
    "    for file in glob.glob(\"Desktop/data/Actor_*/*.wav\"):\n",
    "        \n",
    "        file_path = os.path.basename(file)\n",
    "        emotion = emotion_labels[file_path.split(\"-\")[2]]\n",
    "        \n",
    "        if emotion not in focused_emotion_labels:\n",
    "            continue\n",
    "        \n",
    "        feature = audio_features(file, mfcc = True, chroma = True, mel =True)\n",
    "        \n",
    "        x.append(feature)\n",
    "        y.append(emotion)\n",
    "        \n",
    "    file_dataset = train_test_split(np.array(x), y, test_size = 0.1, random_state = 9)\n",
    "    \n",
    "    return final_dataset"
   ]
  },
  {
   "cell_type": "code",
   "execution_count": null,
   "metadata": {
    "scrolled": true
   },
   "outputs": [],
   "source": [
    "X_train, X_test, y_train, y_test = loading_audio_data()"
   ]
  },
  {
   "cell_type": "code",
   "execution_count": null,
   "metadata": {},
   "outputs": [],
   "source": [
    "model = MLPClassifier(hidden_layer_sizes=(200,), learning_rate='adaptive', max_iter=400)"
   ]
  },
  {
   "cell_type": "code",
   "execution_count": null,
   "metadata": {},
   "outputs": [],
   "source": [
    "model.fit(X_train,y_train)"
   ]
  },
  {
   "cell_type": "code",
   "execution_count": null,
   "metadata": {},
   "outputs": [],
   "source": [
    "y_pred = model.predict(X_test)"
   ]
  },
  {
   "cell_type": "code",
   "execution_count": null,
   "metadata": {},
   "outputs": [],
   "source": [
    "accuracy = accuracy_score(y_true=y_test, y_pred=y_pred)"
   ]
  },
  {
   "cell_type": "code",
   "execution_count": null,
   "metadata": {},
   "outputs": [],
   "source": [
    "print(\"Accuracy of the Recognizer is: {:.1f}%\".format(accuracy*100))"
   ]
  },
  {
   "cell_type": "code",
   "execution_count": null,
   "metadata": {},
   "outputs": [],
   "source": []
  }
 ],
 "metadata": {
  "kernelspec": {
   "display_name": "Python 3",
   "language": "python",
   "name": "python3"
  },
  "language_info": {
   "codemirror_mode": {
    "name": "ipython",
    "version": 3
   },
   "file_extension": ".py",
   "mimetype": "text/x-python",
   "name": "python",
   "nbconvert_exporter": "python",
   "pygments_lexer": "ipython3",
   "version": "3.7.6"
  }
 },
 "nbformat": 4,
 "nbformat_minor": 4
}
